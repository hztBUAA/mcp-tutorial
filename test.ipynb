{
 "cells": [
  {
   "cell_type": "code",
   "execution_count": 1,
   "metadata": {},
   "outputs": [],
   "source": [
    "import nest_asyncio\n",
    "nest_asyncio.apply()"
   ]
  },
  {
   "cell_type": "code",
   "execution_count": 5,
   "metadata": {},
   "outputs": [],
   "source": [
    "import asyncio\n",
    "from typing import Optional, Dict, Any, List\n",
    "from mcp.client.session import ClientSession\n",
    "from mcp.client.sse import sse_client\n",
    "from contextlib import asynccontextmanager\n",
    "\n",
    "class SimpleMCPClient:\n",
    "    def __init__(self):\n",
    "        self.session: Optional[ClientSession] = None\n",
    "        self.tools = None\n",
    "    \n",
    "    @asynccontextmanager\n",
    "    async def connect(self, server_url: str = \"http://localhost:8000/sse\"):\n",
    "        \"\"\"创建SSE连接的上下文管理器\"\"\"\n",
    "        try:\n",
    "            async with sse_client(server_url) as streams:\n",
    "                read_stream, write_stream = streams\n",
    "                async with ClientSession(read_stream, write_stream) as session:\n",
    "                    self.session = session\n",
    "                    await self.session.initialize()\n",
    "                    result = await self.session.list_tools()\n",
    "                    self.tools = result.tools\n",
    "                    yield self\n",
    "        finally:\n",
    "            self.session = None\n",
    "            self.tools = None\n",
    "\n",
    "    async def call_tool(self, tool_name: str, arguments: Dict[str, Any]) -> Any:\n",
    "        \"\"\"调用指定的工具\"\"\"\n",
    "        if not self.session:\n",
    "            raise RuntimeError(\"Not connected to server\")\n",
    "        \n",
    "        tool = next((t for t in self.tools if t.name == tool_name), None)\n",
    "        if not tool:\n",
    "            raise ValueError(f\"Tool {tool_name} not found\")\n",
    "        \n",
    "        return await self.session.call_tool(tool, arguments)\n",
    "    \n",
    "# 在notebook中使用的辅助函数\n",
    "async def run_in_notebook(coroutine):\n",
    "    \"\"\"在notebook中运行异步代码的辅助函数\"\"\"\n",
    "    return await coroutine"
   ]
  },
  {
   "cell_type": "code",
   "execution_count": 10,
   "metadata": {},
   "outputs": [
    {
     "name": "stdout",
     "output_type": "stream",
     "text": [
      "Available tools: ['create-knowledge-folder', 'update-knowledge-folder', 'move-knowledge-folder', 'delete-knowledge-folder', 'get-knowledge-directory', 'get-knowledge-capacity', 'get-knowledge-file-list', 'get-knowledge-file-tags', 'add-knowledge-file-tag', 'remove-knowledge-file-tag', 'get-knowledge-note', 'save-knowledge-note', 'get-scholar-info', 'get-scholar-coauthors', 'search-scholars', 'batch-get-scholars', 'get-scholar-papers', 'get-follow-list', 'get-subscription-list', 'search-papers-normal', 'search-papers-enhanced', 'search-papers-pro-v1', 'search-papers-pro-v2']\n",
      "[Tool(name='create-knowledge-folder', description='在知识库中创建新文件夹', inputSchema={'type': 'object', 'properties': {'parent_id': {'type': 'integer', 'description': '父文件夹ID'}, 'folder_name': {'type': 'string', 'description': '文件夹名称'}}, 'required': ['parent_id', 'folder_name']}, annotations=None), Tool(name='update-knowledge-folder', description='更新知识库中的文件夹名称', inputSchema={'type': 'object', 'properties': {'folder_id': {'type': 'integer', 'description': '文件夹ID'}, 'folder_name': {'type': 'string', 'description': '新的文件夹名称'}}, 'required': ['folder_id', 'folder_name']}, annotations=None), Tool(name='move-knowledge-folder', description='移动知识库中的文件夹', inputSchema={'type': 'object', 'properties': {'source_folder_id': {'type': 'integer', 'description': '源文件夹ID'}, 'target_folder_id': {'type': 'integer', 'description': '目标文件夹ID'}}, 'required': ['source_folder_id', 'target_folder_id']}, annotations=None), Tool(name='delete-knowledge-folder', description='删除知识库中的文件夹', inputSchema={'type': 'object', 'properties': {'nodes_id': {'type': 'integer', 'description': '节点ID'}, 'parent_id': {'type': 'integer', 'description': '父文件夹ID'}, 'force_delete': {'type': 'boolean', 'description': '是否强制删除'}}, 'required': ['nodes_id', 'parent_id']}, annotations=None), Tool(name='get-knowledge-directory', description='获取知识库目录结构', inputSchema={'type': 'object', 'properties': {}}, annotations=None), Tool(name='get-knowledge-capacity', description='获取知识库容量信息', inputSchema={'type': 'object', 'properties': {'folder_id': {'type': 'integer', 'description': '文件夹ID,不传则获取总容量'}}}, annotations=None), Tool(name='get-knowledge-file-list', description='获取知识库文献列表', inputSchema={'type': 'object', 'properties': {'page_num': {'type': 'integer', 'description': '页码,默认1'}, 'page_size': {'type': 'integer', 'description': '每页数量,默认10'}, 'parent_id': {'type': 'integer', 'description': '父文件夹ID'}, 'order_by': {'type': 'integer', 'description': '排序字段(1:标题,2:作者,3:添加时间,4:期刊,5:重要性)'}, 'order': {'type': 'integer', 'description': '排序方式(1:升序,2:降序)'}, 'query': {'type': 'integer', 'description': '检索方式(1:检索作者,2:检索关键词)'}, 'keyword': {'type': 'string', 'description': '检索关键词'}, 'tags': {'type': 'array', 'items': {'type': 'string'}, 'description': '标签列表'}}}, annotations=None), Tool(name='get-knowledge-file-tags', description='获取知识库文献的标签信息', inputSchema={'type': 'object', 'properties': {'resource_id': {'oneOf': [{'type': 'integer'}, {'type': 'array', 'items': {'type': 'integer'}}], 'description': '资源ID或资源ID列表'}}, 'required': ['resource_id']}, annotations=None), Tool(name='add-knowledge-file-tag', description='为知识库文献添加标签', inputSchema={'type': 'object', 'properties': {'tag_id': {'type': 'integer', 'description': '标签ID'}, 'resource_id': {'type': 'integer', 'description': '资源ID'}}, 'required': ['tag_id', 'resource_id']}, annotations=None), Tool(name='remove-knowledge-file-tag', description='移除知识库文献的标签', inputSchema={'type': 'object', 'properties': {'tag_id': {'type': 'integer', 'description': '标签ID'}, 'resource_id': {'type': 'integer', 'description': '资源ID'}}, 'required': ['tag_id', 'resource_id']}, annotations=None), Tool(name='get-knowledge-note', description='获取知识库文献笔记', inputSchema={'type': 'object', 'properties': {'resource_id': {'type': 'integer', 'description': '资源ID'}}, 'required': ['resource_id']}, annotations=None), Tool(name='save-knowledge-note', description='保存知识库文献笔记', inputSchema={'type': 'object', 'properties': {'resource_id': {'type': 'integer', 'description': '资源ID'}, 'note': {'type': 'string', 'description': '笔记内容'}}, 'required': ['resource_id', 'note']}, annotations=None), Tool(name='get-scholar-info', description='获取学者个人信息', inputSchema={'type': 'object', 'properties': {'scholar_id': {'type': 'string', 'description': '学者ID'}}, 'required': ['scholar_id']}, annotations=None), Tool(name='get-scholar-coauthors', description='获取学者合作作者', inputSchema={'type': 'object', 'properties': {'scholar_id': {'type': 'string', 'description': '学者ID'}}, 'required': ['scholar_id']}, annotations=None), Tool(name='search-scholars', description='搜索学者', inputSchema={'type': 'object', 'properties': {'scholar_ids': {'type': 'array', 'items': {'type': 'string'}, 'description': '学者ID列表'}, 'name': {'type': 'string', 'description': '学者名'}, 'page': {'type': 'integer', 'description': '页码，默认1'}, 'page_size': {'type': 'integer', 'description': '每页数量，默认20'}, 'source': {'type': 'string', 'description': '曝光来源: paper_homepage_recommend/scholar_homepage_recommend/ai_search/mix_search/scholar_homepage_search/subscribe_search/view_page/paper_related_author/scholar_card', 'default': 'mix_search'}, 'search_source': {'type': 'string', 'description': '搜索来源: mix_search/scholar_tab_search/ai_search/scholar_home_page_search/scholar_subscribe_search', 'default': 'mix_search'}}, 'required': ['scholar_ids', 'name']}, annotations=None), Tool(name='batch-get-scholars', description='批量获取学者信息', inputSchema={'type': 'object', 'properties': {'scholar_ids': {'type': 'array', 'items': {'type': 'string'}, 'description': '学者ID列表'}}, 'required': ['scholar_ids']}, annotations=None), Tool(name='get-scholar-papers', description='获取学者论文列表', inputSchema={'type': 'object', 'properties': {'scholar_id': {'type': 'string', 'description': '学者ID'}, 'page': {'type': 'integer', 'description': '页码，默认1'}, 'size': {'type': 'integer', 'description': '每页数量，默认20'}, 'sort': {'type': 'integer', 'description': '排序方式：1-最新发表时间 2-引用数 3-被引用，默认1'}}, 'required': ['scholar_id']}, annotations=None), Tool(name='get-follow-list', description='获取关注列表', inputSchema={'type': 'object', 'properties': {'page': {'type': 'integer', 'description': '页码，默认1'}, 'page_size': {'type': 'integer', 'description': '每页数量，默认20'}}}, annotations=None), Tool(name='get-subscription-list', description='获取订阅列表', inputSchema={'type': 'object', 'properties': {'page': {'type': 'integer', 'description': '页码，默认1'}, 'page_size': {'type': 'integer', 'description': '每页数量，默认20'}}}, annotations=None), Tool(name='search-papers-normal', description='普通版搜索论文', inputSchema={'type': 'object', 'properties': {'authors': {'type': 'array', 'items': {'type': 'object', 'properties': {'author': {'type': 'string'}}}, 'description': '作者列表'}, 'start_time': {'type': 'string', 'description': '开始时间 (YYYY-MM-DD)'}, 'end_time': {'type': 'string', 'description': '结束时间 (YYYY-MM-DD)'}, 'page_size': {'type': 'integer', 'description': '返回结果数量，默认50'}}, 'required': ['authors', 'start_time', 'end_time']}, annotations=None), Tool(name='search-papers-enhanced', description='加强版搜索论文', inputSchema={'type': 'object', 'properties': {'words': {'type': 'array', 'items': {'type': 'string'}, 'description': '关键词列表'}, 'question': {'type': 'string', 'description': '问题描述'}, 'start_time': {'type': 'string', 'description': '开始时间 (YYYY-MM-DD)'}, 'end_time': {'type': 'string', 'description': '结束时间 (YYYY-MM-DD)'}, 'page_size': {'type': 'integer', 'description': '返回结果数量，默认50'}, 'rerank': {'type': 'integer', 'description': '是否重排序，默认0'}}, 'required': ['words', 'question', 'start_time', 'end_time']}, annotations=None), Tool(name='search-papers-pro-v1', description='语料pro1.0版本搜索论文', inputSchema={'type': 'object', 'properties': {'words': {'type': 'array', 'items': {'type': 'string'}, 'description': '关键词列表'}, 'area_ids': {'type': 'array', 'items': {'type': 'string'}, 'description': '领域ID列表'}, 'question': {'type': 'string', 'description': '问题描述'}, 'start_time': {'type': 'string', 'description': '开始时间 (YYYY-MM-DD)'}, 'end_time': {'type': 'string', 'description': '结束时间 (YYYY-MM-DD)'}, 'page_size': {'type': 'integer', 'description': '返回结果数量，默认50'}, 'rerank': {'type': 'integer', 'description': '是否重排序，默认0'}}, 'required': ['words', 'area_ids', 'question', 'start_time', 'end_time']}, annotations=None), Tool(name='search-papers-pro-v2', description='语料pro2.0版本搜索论文', inputSchema={'type': 'object', 'properties': {'words': {'type': 'array', 'items': {'type': 'string'}, 'description': '关键词列表'}, 'area_ids': {'type': 'array', 'items': {'type': 'string'}, 'description': '领域ID列表'}, 'question': {'type': 'string', 'description': '问题描述'}, 'start_time': {'type': 'string', 'description': '开始时间 (YYYY-MM-DD)'}, 'end_time': {'type': 'string', 'description': '结束时间 (YYYY-MM-DD)'}, 'page_size': {'type': 'integer', 'description': '返回结果数量，默认50'}}, 'required': ['words', 'area_ids', 'question', 'start_time', 'end_time']}, annotations=None)]\n"
     ]
    }
   ],
   "source": [
    "# 创建客户端实例\n",
    "client = SimpleMCPClient()\n",
    "\n",
    "# 方式1：使用异步上下文管理器\n",
    "async with client.connect() as c:\n",
    "    # 列出可用工具\n",
    "    print(\"Available tools:\", [t.name for t in c.tools])\n",
    "    print(c.tools)\n",
    "    # 调用工具示例\n",
    "    # result = await c.call_tool(\"tool_name\", {\"arg\": \"value\"})\n",
    "    # print(\"Result:\", result)\n",
    "\n",
    "# # 方式2：使用辅助函数在notebook中运行\n",
    "# async def main():\n",
    "#     async with client.connect() as c:\n",
    "#         tools = c.tools\n",
    "#         print(\"Available tools:\", [t.name for t in tools])\n",
    "        \n",
    "#         # # 调用工具示例\n",
    "#         # result = await c.call_tool(\"tool_name\", {\"arg\": \"value\"})\n",
    "#         # return result\n",
    "\n",
    "# # 在notebook中运行\n",
    "# result = await run_in_notebook(main())"
   ]
  }
 ],
 "metadata": {
  "kernelspec": {
   "display_name": "mcp-new",
   "language": "python",
   "name": "python3"
  },
  "language_info": {
   "codemirror_mode": {
    "name": "ipython",
    "version": 3
   },
   "file_extension": ".py",
   "mimetype": "text/x-python",
   "name": "python",
   "nbconvert_exporter": "python",
   "pygments_lexer": "ipython3",
   "version": "3.11.0"
  }
 },
 "nbformat": 4,
 "nbformat_minor": 2
}
